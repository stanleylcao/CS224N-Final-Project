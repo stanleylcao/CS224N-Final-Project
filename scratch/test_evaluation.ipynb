{
 "cells": [
  {
   "cell_type": "code",
   "execution_count": null,
   "metadata": {},
   "outputs": [],
   "source": [
    "%load_ext autoreload\n",
    "%autoreload 2\n",
    "# %env CUDA_VISIBLE_DEVICES="
   ]
  },
  {
   "cell_type": "code",
   "execution_count": null,
   "metadata": {},
   "outputs": [],
   "source": [
    "import sys; sys.path.append(\"../\")"
   ]
  },
  {
   "cell_type": "code",
   "execution_count": null,
   "metadata": {},
   "outputs": [],
   "source": [
    "from fof.encdec import EncoderDecoderModel\n",
    "from fof.dataloader import ScicapDataModule\n",
    "from pathlib import Path\n",
    "import wandb"
   ]
  },
  {
   "cell_type": "code",
   "execution_count": null,
   "metadata": {},
   "outputs": [],
   "source": [
    "run = wandb.init(project=\"figuring-out-figures\")"
   ]
  },
  {
   "cell_type": "code",
   "execution_count": null,
   "metadata": {},
   "outputs": [],
   "source": [
    "import pytorch_lightning as pl\n",
    "\n",
    "datamodule = ScicapDataModule(\n",
    "    \"First-Sentence\",\n",
    "    batch_size=16,\n",
    "    tokenizer=None,\n",
    "    num_workers=32,\n",
    "    root=Path(\"../scicap_data\"),\n",
    "    caption_type=\"orig\")\n",
    "trainer = pl.Trainer(gpus=1)"
   ]
  },
  {
   "cell_type": "code",
   "execution_count": null,
   "metadata": {},
   "outputs": [],
   "source": [
    "def test_model(artifact_str: str = None, ckpt_path: str = None, use_test = False, **kwargs):\n",
    "    if artifact_str is not None:\n",
    "        artifact = run.use_artifact(artifact_str, type=\"model\")\n",
    "        artifact_dir = artifact.download()\n",
    "        ckpt_path = Path(artifact_dir) / \"model.ckpt\"\n",
    "    model = EncoderDecoderModel.load_from_checkpoint(ckpt_path, **kwargs)\n",
    "    if use_test:\n",
    "        trainer.test(model, datamodule=datamodule)\n",
    "    else:\n",
    "        trainer.validate(model, datamodule=datamodule)"
   ]
  },
  {
   "cell_type": "code",
   "execution_count": null,
   "metadata": {},
   "outputs": [],
   "source": [
    "# Text features only, best model\n",
    "test_model(ckpt_path=\"/data/kevin/arxiv/evaluation_checkpoints/text-features-only.ckpt\", use_test=True)"
   ]
  },
  {
   "cell_type": "code",
   "execution_count": null,
   "metadata": {},
   "outputs": [],
   "source": [
    "# Image features (CLIP) only, original caption, best model\n",
    "test_model(artifact_str=\"figuring-out-figures/figuring-out-figures/model-yw5qm3wp:v16\", use_test=True)\n"
   ]
  },
  {
   "cell_type": "code",
   "execution_count": null,
   "metadata": {},
   "outputs": [],
   "source": [
    "# Image features (CLIP), DistilGPT, normalized captions, SCIBERT encoder\n",
    "# for references, title, and abstract, best model\n",
    "test_model(\n",
    "    artifact_str='figuring-out-figures/figuring-out-figures/model-1d7mntmw:v2', use_test=True, use_top_p_sampling=True)\n"
   ]
  },
  {
   "cell_type": "code",
   "execution_count": null,
   "metadata": {},
   "outputs": [],
   "source": [
    "# Image features (CLIP), DistilGPT, original captions, SCIBERT encoder\n",
    "# for references, title, and abstract, best model\n",
    "test_model(\n",
    "    artifact_str='figuring-out-figures/figuring-out-figures/model-27py12gz:v2', use_test=True, use_top_p_sampling=False)\n"
   ]
  },
  {
   "cell_type": "code",
   "execution_count": null,
   "metadata": {},
   "outputs": [],
   "source": [
    "# DistilGPT top p caption\n",
    "test_model(artifact_str=\"figuring-out-figures/figuring-out-figures/model-27py12gz:v1\", use_test=True)"
   ]
  }
 ],
 "metadata": {
  "interpreter": {
   "hash": "c7779a98de346b1031cd91a1d891077213abc72ed26fbf8642cc8d816444057c"
  },
  "kernelspec": {
   "display_name": "Python 3.8.10 ('figuring-out-figures-rn5smVdW')",
   "language": "python",
   "name": "python3"
  },
  "language_info": {
   "codemirror_mode": {
    "name": "ipython",
    "version": 3
   },
   "file_extension": ".py",
   "mimetype": "text/x-python",
   "name": "python",
   "nbconvert_exporter": "python",
   "pygments_lexer": "ipython3",
   "version": "3.8.10"
  },
  "orig_nbformat": 4
 },
 "nbformat": 4,
 "nbformat_minor": 2
}
